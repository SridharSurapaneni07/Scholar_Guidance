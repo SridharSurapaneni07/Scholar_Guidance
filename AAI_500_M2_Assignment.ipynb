{
  "cells": [
    {
      "cell_type": "markdown",
      "metadata": {
        "id": "view-in-github",
        "colab_type": "text"
      },
      "source": [
        "<a href=\"https://colab.research.google.com/github/SridharSurapaneni07/Scholar_Guidance/blob/main/AAI_500_M2_Assignment.ipynb\" target=\"_parent\"><img src=\"https://colab.research.google.com/assets/colab-badge.svg\" alt=\"Open In Colab\"/></a>"
      ]
    },
    {
      "cell_type": "markdown",
      "metadata": {
        "id": "ks9nBpWjeo_V"
      },
      "source": [
        "# Assignment 2.1\n",
        "\n",
        "Name:  Sridhar Surapaneni\n",
        "Date:15th Sep 2024"
      ]
    },
    {
      "cell_type": "markdown",
      "metadata": {
        "id": "n1U33vMLeo_Y"
      },
      "source": [
        "For this assignment, you will refer to the textbook to solve the practice exercises. **Use Python to answer any coding problems (not R, even if indicated in your textbook).** Use Jupyter Notebook, Google Colab, or a similar software program to complete your assignment. Submit your answers as a **PDF or HTML** file. As a best practice, always label your axes and provide titles for any graphs generated on this assignment. Round all quantitative answers to 2 decimal places."
      ]
    },
    {
      "cell_type": "markdown",
      "metadata": {
        "id": "Bxhw4KiQeo_a"
      },
      "source": [
        "## Problem # 2.1."
      ]
    },
    {
      "cell_type": "markdown",
      "metadata": {
        "id": "qzBGVOVxeo_a"
      },
      "source": [
        "For the rain simulation example in Section 2.1.1, but with probability of rain 0.30 on any\n",
        "given day, simulate the outcome (a) on the next day, (b) the next 10 days. (c) Simulate the\n",
        "proportion of days of rain for the next (i) 100 days, (ii) 10,000 days, (iii) 1,000,000 days. Use\n",
        "the simulation to explain the long-run relative frequency definition of probability."
      ]
    },
    {
      "cell_type": "markdown",
      "metadata": {
        "id": "QD98wONueo_b"
      },
      "source": [
        "`(a) Your answer goes here`"
      ]
    },
    {
      "cell_type": "code",
      "execution_count": 2,
      "metadata": {
        "colab": {
          "base_uri": "https://localhost:8080/"
        },
        "id": "09n6DHa9eo_b",
        "outputId": "f80c390e-d854-4813-8baa-e54707b5de98"
      },
      "outputs": [
        {
          "output_type": "stream",
          "name": "stdout",
          "text": [
            "Outcome for the next day: Rain\n",
            "Outcomes for the next 10 days: ['Rain', 'No Rain', 'Rain', 'Rain', 'Rain', 'No Rain', 'No Rain', 'No Rain', 'No Rain', 'No Rain']\n",
            "Proportion of rain days for the next 100 days: 0.19\n",
            "Proportion of rain days for the next 10,000 days: 0.3025\n",
            "Proportion of rain days for the next 1,000,000 days: 0.300766\n"
          ]
        }
      ],
      "source": [
        "import random\n",
        "\n",
        "probability_of_rain = 0.30\n",
        "if random.random() < probability_of_rain:\n",
        "  outcome = \"Rain\"\n",
        "else:\n",
        "  outcome = \"No Rain\"\n",
        "print(\"Outcome for the next day:\", outcome)"
      ]
    },
    {
      "cell_type": "markdown",
      "metadata": {
        "id": "ef-nY5NPeo_c"
      },
      "source": [
        "`(b) Your answer goes here`"
      ]
    },
    {
      "cell_type": "code",
      "execution_count": 3,
      "metadata": {
        "colab": {
          "base_uri": "https://localhost:8080/"
        },
        "id": "meKzFOSpeo_c",
        "outputId": "5c269e48-cf46-4545-de5d-cd92d0ec570d"
      },
      "outputs": [
        {
          "output_type": "stream",
          "name": "stdout",
          "text": [
            "Outcomes for the next 10 days: ['No Rain', 'Rain', 'No Rain', 'No Rain', 'Rain', 'Rain', 'No Rain', 'Rain', 'Rain', 'No Rain']\n"
          ]
        }
      ],
      "source": [
        "outcomes_10_days = []\n",
        "for _ in range(10):\n",
        "  if random.random() < probability_of_rain:\n",
        "    outcomes_10_days.append(\"Rain\")\n",
        "  else:\n",
        "    outcomes_10_days.append(\"No Rain\")\n",
        "print(\"Outcomes for the next 10 days:\", outcomes_10_days)"
      ]
    },
    {
      "cell_type": "markdown",
      "metadata": {
        "id": "fOxme8oSeo_c"
      },
      "source": [
        "`(c) Your answer goes here`"
      ]
    },
    {
      "cell_type": "code",
      "execution_count": 6,
      "metadata": {
        "colab": {
          "base_uri": "https://localhost:8080/"
        },
        "id": "ii1YwOSceo_d",
        "outputId": "fe789409-4676-4bc8-a8a3-40aaf9d3146a"
      },
      "outputs": [
        {
          "output_type": "stream",
          "name": "stdout",
          "text": [
            "Proportion of rain days for the next 100 days: 0.3\n",
            "Proportion of rain days for the next 10,000 days: 0.3\n",
            "Proportion of rain days for the next 1,000,000 days: 0.3\n"
          ]
        }
      ],
      "source": [
        "def simulate_rain_proportion(num_days):\n",
        "  rain_days = 0\n",
        "  for _ in range(num_days):\n",
        "    if random.random() < probability_of_rain:\n",
        "      rain_days += 1\n",
        "  return rain_days / num_days\n",
        "\n",
        "# (i) 100 days\n",
        "proportion_100_days = simulate_rain_proportion(100)\n",
        "print(\"Proportion of rain days for the next 100 days:\", round(proportion_100_days,2))\n",
        "\n",
        "# (ii) 10,000 days\n",
        "proportion_10000_days = simulate_rain_proportion(10000)\n",
        "print(\"Proportion of rain days for the next 10,000 days:\", round(proportion_10000_days,2))\n",
        "\n",
        "# (iii) 1,000,000 days\n",
        "proportion_1000000_days = simulate_rain_proportion(1000000)\n",
        "print(\"Proportion of rain days for the next 1,000,000 days:\", round(proportion_1000000_days,2))"
      ]
    },
    {
      "cell_type": "markdown",
      "metadata": {
        "id": "dwD5Zm0Aeo_d"
      },
      "source": [
        "## Problem # 2.2."
      ]
    },
    {
      "cell_type": "markdown",
      "metadata": {
        "id": "7AwGzWI6eo_e"
      },
      "source": [
        "Data analysts often implement statistical inference methods by setting the probability of a\n",
        "correct inference equal to 0.95. Let *A* denote the event that an inference for the population\n",
        "about men is correct. Let *B* represent the event of a corresponding inference about women\n",
        "being correct. Suppose that these are independent events.\n"
      ]
    },
    {
      "cell_type": "markdown",
      "metadata": {
        "id": "mDn8Mvm4eo_e"
      },
      "source": [
        "(a) Find the probability that (i) *both* inferences are correct, (ii) *neither* inference is correct.  \n",
        "(b) Construct the probability distribution for *Y* = number of correct inferences.  \n",
        "(c) With what probability would each inference need to be correct in order for the probability to be 0.95 that *both* are correct?\n",
        "\n"
      ]
    },
    {
      "cell_type": "markdown",
      "metadata": {
        "id": "AvpqVFSaeo_e"
      },
      "source": [
        "`(a) Your answer goes here`"
      ]
    },
    {
      "cell_type": "code",
      "execution_count": 7,
      "metadata": {
        "colab": {
          "base_uri": "https://localhost:8080/"
        },
        "id": "Ivckf3kteo_f",
        "outputId": "d0570684-bbad-461c-c139-9de25f0e75f7"
      },
      "outputs": [
        {
          "output_type": "stream",
          "name": "stdout",
          "text": [
            "Probability that both inferences are correct: 0.9\n",
            "Probability that neither inference is correct: 0.0\n"
          ]
        }
      ],
      "source": [
        "probability_A = 0.95\n",
        "probability_B = 0.95\n",
        "probability_both_correct = probability_A * probability_B\n",
        "print(\"Probability that both inferences are correct:\", round(probability_both_correct,2))\n",
        "\n",
        "#(ii) Probability that neither inference is correct\n",
        "probability_A_incorrect = 1 - probability_A\n",
        "probability_B_incorrect = 1 - probability_B\n",
        "probability_neither_correct = probability_A_incorrect * probability_B_incorrect\n",
        "print(\"Probability that neither inference is correct:\", round(probability_neither_correct,2))\n"
      ]
    },
    {
      "cell_type": "markdown",
      "metadata": {
        "id": "TMmpXoLPeo_f"
      },
      "source": [
        "`(b) Your answer goes here`"
      ]
    },
    {
      "cell_type": "code",
      "execution_count": 8,
      "metadata": {
        "colab": {
          "base_uri": "https://localhost:8080/"
        },
        "id": "5oHkVcK2eo_f",
        "outputId": "f5f42a31-aebb-478e-d1b1-eec28fae68d0"
      },
      "outputs": [
        {
          "output_type": "stream",
          "name": "stdout",
          "text": [
            "Probability Distribution for Y:\n",
            "Y = 0: 0.0\n",
            "Y = 1: 0.1\n",
            "Y = 2: 0.9\n"
          ]
        }
      ],
      "source": [
        "# Probability distribution for Y = number of correct inferences\n",
        "# Y can take values 0, 1, or 2\n",
        "\n",
        "probability_Y_0 = probability_neither_correct  # Probability that neither is correct\n",
        "probability_Y_2 = probability_both_correct  # Probability that both are correct\n",
        "\n",
        "# Probability that exactly one is correct\n",
        "probability_Y_1 = (probability_A * (1 - probability_B)) + ((1 - probability_A) * probability_B)\n",
        "\n",
        "print(\"Probability Distribution for Y:\")\n",
        "print(\"Y = 0:\", round(probability_Y_0, 2))\n",
        "print(\"Y = 1:\", round(probability_Y_1, 2))\n",
        "print(\"Y = 2:\", round(probability_Y_2, 2))\n"
      ]
    },
    {
      "cell_type": "markdown",
      "metadata": {
        "id": "F5nXKWxJeo_f"
      },
      "source": [
        "`(c) Your answer goes here`"
      ]
    },
    {
      "cell_type": "code",
      "execution_count": 9,
      "metadata": {
        "colab": {
          "base_uri": "https://localhost:8080/"
        },
        "id": "SEixwHd-eo_g",
        "outputId": "ac1fbea0-b6d7-486e-b730-d67b7c8215ab"
      },
      "outputs": [
        {
          "output_type": "stream",
          "name": "stdout",
          "text": [
            "Probability that each inference needs to be correct: 0.97\n"
          ]
        }
      ],
      "source": [
        "# We want P(A and B) = 0.95\n",
        "# P(A and B) = P(A) * P(B) (since A and B are independent)\n",
        "# We want P(A) * P(B) = 0.95\n",
        "# Let P(A) = P(B) = p\n",
        "# Then p * p = 0.95\n",
        "# p^2 = 0.95\n",
        "# p = sqrt(0.95)\n",
        "\n",
        "p = (0.95)**0.5\n",
        "print(\"Probability that each inference needs to be correct:\", round(p, 2))\n"
      ]
    },
    {
      "cell_type": "markdown",
      "metadata": {
        "id": "rn2GW0RWeo_g"
      },
      "source": [
        "## Problem # 2.4."
      ]
    },
    {
      "cell_type": "markdown",
      "metadata": {
        "id": "-1Zreckfeo_g"
      },
      "source": [
        "A wine connoisseur is asked to match five glasses of red wine with the bottles from which they\n",
        "came, representing five different grape types.\n"
      ]
    },
    {
      "cell_type": "markdown",
      "metadata": {
        "id": "DW0ztT4Jeo_g"
      },
      "source": [
        "(a) Set up a sample space for the five guesses.  \n",
        "(b) With random guessing, find the probability of getting all five correct."
      ]
    },
    {
      "cell_type": "markdown",
      "metadata": {
        "id": "XbH3bppXeo_h"
      },
      "source": [
        "`(a) Your answer goes here`"
      ]
    },
    {
      "cell_type": "markdown",
      "metadata": {
        "id": "O4A0AngQeo_h"
      },
      "source": [
        " The sample space consists of all possible permutations of the five glasses, sample_space = list(itertools.permutations([1, 2, 3, 4, 5])), the length of sample space is 120. Example: (3, 2, 4, 1, 5), (3, 2, 4, 5, 1), (3, 2, 5, 1, 4), (3, 2, 5, 4, 1)"
      ]
    },
    {
      "cell_type": "markdown",
      "metadata": {
        "id": "fg8l-WJeeo_h"
      },
      "source": [
        "`(b) Your answer goes here`"
      ]
    },
    {
      "cell_type": "code",
      "execution_count": 13,
      "metadata": {
        "colab": {
          "base_uri": "https://localhost:8080/"
        },
        "id": "dhme2Lo3eo_h",
        "outputId": "864535d4-4fdb-4aca-e7f9-b69fdeeeb232"
      },
      "outputs": [
        {
          "output_type": "stream",
          "name": "stdout",
          "text": [
            "Sample space size: 120\n",
            "Probability of getting all five correct with random guessing: 0.01\n"
          ]
        }
      ],
      "source": [
        "import itertools\n",
        "\n",
        "sample_space = list(itertools.permutations([1, 2, 3, 4, 5]))\n",
        "print(\"Sample space size:\", len(sample_space))\n",
        "\n",
        "# (b) With random guessing, find the probability of getting all five correct.\n",
        "# The probability of getting all five correct with random guessing is 1 / number of permutations.\n",
        "probability_all_correct = 1 / len(sample_space)\n",
        "print(\"Probability of getting all five correct with random guessing:\", round(probability_all_correct, 2))\n"
      ]
    },
    {
      "cell_type": "markdown",
      "metadata": {
        "id": "Z4SmlWqyeo_h"
      },
      "source": [
        "## Problem # 2.15."
      ]
    },
    {
      "cell_type": "markdown",
      "metadata": {
        "id": "AQ5atEBleo_h"
      },
      "source": [
        "Each week an insurance company records *Y* = number of payments because of a home burning\n",
        "down. State conditions under which we would expect *Y* to approximately have a Poisson\n",
        "distribution.\n"
      ]
    },
    {
      "cell_type": "markdown",
      "metadata": {
        "id": "iRXw8Qcweo_i"
      },
      "source": [
        "`Your answer goes here`"
      ]
    },
    {
      "cell_type": "markdown",
      "metadata": {
        "id": "5cpQamXkeo_i"
      },
      "source": [
        "We would expect Y to approximately have a Poisson distribution under the following conditions:\n",
        " 1. The events (home burnings) occur independently of each other.\n",
        " 2. The probability of a home burning down in a short time interval is proportional to the length of the interval.\n",
        " 3. The probability of more than one home burning down in a very short time interval is negligible.\n",
        " 4. The rate of home burnings is constant over time.\n",
        " In simpler terms, the events should be rare, random, and independent, and the average rate of events should be relatively constant."
      ]
    },
    {
      "cell_type": "markdown",
      "metadata": {
        "id": "wn6C6AdVeo_j"
      },
      "source": [
        "## Problem # 2.16."
      ]
    },
    {
      "cell_type": "markdown",
      "metadata": {
        "id": "waklSdjjeo_j"
      },
      "source": [
        "Each day a hospital records the number of people who come to the emergency room for treatment."
      ]
    },
    {
      "cell_type": "markdown",
      "metadata": {
        "id": "PnMoDXgVeo_j"
      },
      "source": [
        "(a)  In the first week, the observations from Sunday to Saturday are 10, 8, 14, 7, 21, 44, 60.\n",
        "Do you think that the Poisson distribution might describe the random variability of this\n",
        "phenomenon adequately. Why or why not?  \n",
        "(b) Would you expect the Poisson distribution to better describe, or more poorly describe,\n",
        "the number of weekly admissions to the hospital for a rare disease? Why?"
      ]
    },
    {
      "cell_type": "markdown",
      "metadata": {
        "id": "rj62SfFAeo_j"
      },
      "source": [
        "`(a) Your answer goes here`"
      ]
    },
    {
      "cell_type": "code",
      "execution_count": 14,
      "metadata": {
        "colab": {
          "base_uri": "https://localhost:8080/"
        },
        "id": "HhkJ40FGeo_k",
        "outputId": "eedef5b6-2e9b-4633-b20f-4edc2dd518c0"
      },
      "outputs": [
        {
          "output_type": "stream",
          "name": "stdout",
          "text": [
            "Based on the observations, the Poisson distribution might not be a good fit for describing the random variability of emergency room visits.\n",
            "The observations show a large variation, with some days having significantly more visits than others.\n",
            "This suggests that the average rate of emergency room visits is not constant throughout the week, which is a key assumption of the Poisson distribution.\n"
          ]
        }
      ],
      "source": [
        "\n",
        "observations = [10, 8, 14, 7, 21, 44, 60]"
      ]
    },
    {
      "cell_type": "markdown",
      "metadata": {
        "id": "XecaX1n3eo_k"
      },
      "source": [
        "`(b) Your answer goes here`"
      ]
    },
    {
      "cell_type": "code",
      "execution_count": 15,
      "metadata": {
        "colab": {
          "base_uri": "https://localhost:8080/"
        },
        "id": "1Tx8ZsNeeo_k",
        "outputId": "69334fc4-d422-4cba-b122-22d01717f977"
      },
      "outputs": [
        {
          "output_type": "stream",
          "name": "stdout",
          "text": [
            "For a rare disease, the Poisson distribution would likely be a better fit.\n",
            "This is because the events (admissions for a rare disease) are likely to be independent,\n",
            "and the average rate of admissions would be relatively constant over time.\n",
            "The Poisson distribution assumes a constant average rate of events over time.\n",
            "In the case of a rare disease, the number of weekly admissions would likely be relatively\n",
            "small and stable, with occasional fluctuations due to random chance.\n",
            "This aligns better with the assumptions of the Poisson distribution compared to the\n",
            "emergency room visits, where external factors and varying rates might influence the data.\n"
          ]
        }
      ],
      "source": [
        "\n"
      ]
    },
    {
      "cell_type": "markdown",
      "metadata": {
        "id": "L0ld5s4Oeo_l"
      },
      "source": [
        "## Problem # 2.17."
      ]
    },
    {
      "cell_type": "markdown",
      "metadata": {
        "id": "PIbPhppAeo_m"
      },
      "source": [
        "An instructor gives a course grade of B to students who have total score on exams and homeworks between 800 and 900, where the maximum possible is 1000. If the total scores have\n",
        "approximately a normal distribution with mean 830 and standard deviation 50, about what proportion of the students receive a B?\n"
      ]
    },
    {
      "cell_type": "markdown",
      "metadata": {
        "id": "1OpDWrPueo_o"
      },
      "source": [
        "`Your answer goes here`"
      ]
    },
    {
      "cell_type": "code",
      "execution_count": 16,
      "metadata": {
        "colab": {
          "base_uri": "https://localhost:8080/"
        },
        "id": "XRe97hi3eo_o",
        "outputId": "b425d7fc-4c49-40cf-b853-fd41005f6493"
      },
      "outputs": [
        {
          "output_type": "stream",
          "name": "stdout",
          "text": [
            "Proportion of students receiving a B: 0.64\n"
          ]
        }
      ],
      "source": [
        "from scipy.stats import norm\n",
        "\n",
        "mean = 830\n",
        "std_dev = 50\n",
        "\n",
        "# Calculate the z-scores for 800 and 900\n",
        "z_score_800 = (800 - mean) / std_dev\n",
        "z_score_900 = (900 - mean) / std_dev\n",
        "\n",
        "# Calculate the probability of a score between 800 and 900 using the cumulative distribution function (CDF)\n",
        "proportion_B = norm.cdf(z_score_900) - norm.cdf(z_score_800)\n",
        "\n",
        "print(\"Proportion of students receiving a B:\", round(proportion_B, 2))\n"
      ]
    },
    {
      "cell_type": "markdown",
      "metadata": {
        "id": "SyijvY_7eo_p"
      },
      "source": [
        "## Problem # 2.20."
      ]
    },
    {
      "cell_type": "markdown",
      "metadata": {
        "id": "Ukj2sYzDeo_p"
      },
      "source": [
        "Create a data file with the income values in the `Income` data file at the text website."
      ]
    },
    {
      "cell_type": "markdown",
      "metadata": {
        "id": "qZpkOOwxeo_p"
      },
      "source": [
        "(a) Construct a histogram or a smooth-curve approximation for the *pdf* of income in the\n",
        "corresponding population by plotting results using the density function in R (explained\n",
        "in Exercise 1.18).  \n",
        "(b)  Of the probability distributions studied in this chapter, which do you think might be\n",
        "most appropriate for these data? Why? Plot the probability function of that distribution\n",
        "having the same mean and standard deviation as the income values. Does it seem to\n",
        "describe the income distribution well?\n"
      ]
    },
    {
      "cell_type": "markdown",
      "metadata": {
        "id": "y2fpGSwmeo_q"
      },
      "source": [
        "`(a) Your answer goes here`"
      ]
    },
    {
      "cell_type": "code",
      "execution_count": 29,
      "metadata": {
        "colab": {
          "base_uri": "https://localhost:8080/",
          "height": 472
        },
        "id": "3aUL0NRSeo_q",
        "outputId": "1d4d51da-5358-49b6-e7aa-6de4b448ab56"
      },
      "outputs": [
        {
          "output_type": "display_data",
          "data": {
            "text/plain": [
              "<Figure size 640x480 with 1 Axes>"
            ],
            "image/png": "[encoded data removed]"
          },
          "metadata": {}
        }
      ],
      "source": [
        "import pandas as pd\n",
        "import matplotlib.pyplot as plt\n",
        "import seaborn as sns\n",
        "\n",
        "# Read the data from the income.dat file\n",
        "try:\n",
        "    income_data = pd.read_csv('Income.dat', header=None, names=['Income'], delim_whitespace=True) # Added delim_whitespace=True to handle potential whitespace as delimiter\n",
        "except FileNotFoundError:\n",
        "    print(\"Income.dat file not found. Please upload the file to your Colab environment.\")\n",
        "\n",
        "# (a) Construct a histogram or a smooth-curve approximation for the pdf of income\n",
        "if 'income_data' in locals():\n",
        "    sns.histplot(income_data['Income'], kde=True)\n",
        "    plt.title('Histogram of Income with KDE')\n",
        "    plt.xlabel('Income')\n",
        "    plt.ylabel('Density')\n",
        "    plt.show()\n"
      ]
    },
    {
      "cell_type": "markdown",
      "metadata": {
        "id": "zZBT1OKfeo_q"
      },
      "source": [
        "`(b) Your answer goes here`"
      ]
    },
    {
      "cell_type": "code",
      "execution_count": 47,
      "metadata": {
        "colab": {
          "base_uri": "https://localhost:8080/",
          "height": 889
        },
        "id": "cjekj6mAeo_q",
        "outputId": "71d8b75b-b27d-437f-ce96-8ae6bae8f260"
      },
      "outputs": [
        {
          "output_type": "stream",
          "name": "stdout",
          "text": [
            "First few rows of income_data:\n",
            "   Income  Education Race\n",
            "0      16         10    B\n",
            "1      18          7    B\n",
            "2      26          9    B\n",
            "3      16         11    B\n",
            "4      34         14    B\n",
            "5      22         12    B\n",
            "6      42         16    B\n",
            "7      42         16    B\n",
            "8      16          9    B\n",
            "9      20         10    B\n",
            "Number of valid income data points: 80\n",
            "Income data statistics:\n",
            "count     80.000000\n",
            "mean      37.525000\n",
            "std       20.672843\n",
            "min       16.000000\n",
            "25%       22.000000\n",
            "50%       30.000000\n",
            "75%       46.500000\n",
            "max      120.000000\n",
            "Name: Income, dtype: float64\n",
            "Log-Income mean: 3.5047200467142465, Log-Income std: 0.4721297538269946\n"
          ]
        },
        {
          "output_type": "display_data",
          "data": {
            "text/plain": [
              "<Figure size 640x480 with 1 Axes>"
            ],
            "image/png": "[encoded data removed]"
          },
          "metadata": {}
        }
      ],
      "source": [
        "import numpy as np\n",
        "from scipy.stats import lognorm\n",
        "import pandas as pd\n",
        "import matplotlib.pyplot as plt\n",
        "import seaborn as sns\n",
        "try:\n",
        "    # Specify column names based on the structure of the file\n",
        "    income_data = pd.read_csv('Income.dat', delim_whitespace=True, names=['Income', 'Education', 'Race'], skiprows=1)\n",
        "except FileNotFoundError:\n",
        "    print(\"Income.dat file not found. Please upload the file to your environment.\")\n",
        "\n",
        "# Assuming income_data is already loaded as a DataFrame\n",
        "if 'income_data' in locals():\n",
        "    # Inspect the first few rows of the dataset\n",
        "    print(\"First few rows of income_data:\")\n",
        "    print(income_data.head(10))\n",
        "\n",
        "    # Extract the 'Income' column for analysis\n",
        "    income_column = income_data['Income']\n",
        "\n",
        "    # Convert 'Income' to numeric, forcing errors to NaN, then drop NaN values\n",
        "    income_column = pd.to_numeric(income_column, errors='coerce')\n",
        "\n",
        "    # Remove NaN, infinite, and non-positive values\n",
        "    income_data_clean = income_column[np.isfinite(income_column) & (income_column > 0)]\n",
        "\n",
        "    # Diagnostic: Check the number of data points\n",
        "    print(f\"Number of valid income data points: {len(income_data_clean)}\")\n",
        "    print(f\"Income data statistics:\\n{income_data_clean.describe()}\")\n",
        "\n",
        "    # Proceed if there are enough data points\n",
        "    if len(income_data_clean) > 0:\n",
        "        # Calculate the log of income data\n",
        "        log_income = np.log(income_data_clean)\n",
        "\n",
        "        # Calculate mean and std of the log-transformed income\n",
        "        mu = np.mean(log_income)\n",
        "        sigma = np.std(log_income)\n",
        "\n",
        "        # Diagnostic: Print mean and std\n",
        "        print(f\"Log-Income mean: {mu}, Log-Income std: {sigma}\")\n",
        "\n",
        "        # Generate the log-normal distribution with the same mean and std\n",
        "        x = np.linspace(income_data_clean.min(), income_data_clean.max(), 1000)\n",
        "        pdf = lognorm.pdf(x, s=sigma, scale=np.exp(mu))\n",
        "\n",
        "        # Plot the histogram and the log-normal PDF\n",
        "        sns.histplot(income_data_clean, kde=True, stat='density', bins=30, label='Income Data')\n",
        "        plt.plot(x, pdf, 'r-', label='Log-Normal PDF')\n",
        "        plt.title('Income Data vs. Log-Normal Distribution')\n",
        "        plt.xlabel('Income')\n",
        "        plt.ylabel('Density')\n",
        "        plt.legend()\n",
        "\n",
        "        # Show the plot\n",
        "        plt.show()\n",
        "    else:\n",
        "        print(\"No valid data points to plot.\")\n"
      ]
    },
    {
      "cell_type": "markdown",
      "metadata": {
        "id": "hrq2G01reo_r"
      },
      "source": [
        "## Problem # 2.21."
      ]
    },
    {
      "cell_type": "markdown",
      "metadata": {
        "id": "9Q3vnGFgeo_r"
      },
      "source": [
        "Plot the gamma distribution by fixing the shape parameter *k* = 3 and setting the scale parameter\n",
        "= 0.5, 1, 2, 3, 4, 5. What is the effect of increasing the scale parameter? (See also Exercise 2.48.)"
      ]
    },
    {
      "cell_type": "markdown",
      "metadata": {
        "id": "EVDVL0gbeo_s"
      },
      "source": [
        "`Your answer goes here`"
      ]
    },
    {
      "cell_type": "code",
      "execution_count": 48,
      "metadata": {
        "colab": {
          "base_uri": "https://localhost:8080/",
          "height": 564
        },
        "id": "fuqjnJwceo_s",
        "outputId": "38b4beac-890a-4165-8375-38e80679b819"
      },
      "outputs": [
        {
          "output_type": "display_data",
          "data": {
            "text/plain": [
              "<Figure size 1000x600 with 1 Axes>"
            ],
            "image/png": "[encoded data removed]"
          },
          "metadata": {}
        }
      ],
      "source": [
        "from scipy.stats import gamma\n",
        "import matplotlib.pyplot as plt\n",
        "import numpy as np\n",
        "\n",
        "k = 3  # Shape parameter\n",
        "scale_params = [0.5, 1, 2, 3, 4, 5]\n",
        "\n",
        "x = np.linspace(0, 20, 1000)\n",
        "\n",
        "plt.figure(figsize=(10, 6))\n",
        "\n",
        "for scale in scale_params:\n",
        "    pdf = gamma.pdf(x, a=k, scale=scale)\n",
        "    plt.plot(x, pdf, label=f'Scale = {scale}')\n",
        "\n",
        "plt.title('Gamma Distribution with Varying Scale Parameters (k=3)')\n",
        "plt.xlabel('x')\n",
        "plt.ylabel('Probability Density')\n",
        "plt.legend()\n",
        "plt.grid(True)\n",
        "plt.show()\n"
      ]
    },
    {
      "cell_type": "markdown",
      "metadata": {
        "id": "-qGb6isOeo_s"
      },
      "source": [
        "## Problem # 2.22."
      ]
    },
    {
      "cell_type": "markdown",
      "metadata": {
        "id": "DOYMKcgOeo_t"
      },
      "source": [
        "Consider the mammogram diagnostic example in Section 2.1.4."
      ]
    },
    {
      "cell_type": "markdown",
      "metadata": {
        "id": "AVyePRM1eo_t"
      },
      "source": [
        "(a) Show that the joint probability distribution of diagnosis and disease status is as shown in\n",
        "Table 2.6. Given that a diagnostic test result is positive, explain how this joint distribution\n",
        "shows that the 12% of incorrect diagnoses for the 99% of women not having breast cancer\n",
        "swamp the 86% of correct diagnoses for the 1% of women actually having breast cancer.  \n",
        "(b) The first test for detecting HIV-positive status had a sensitivity of 0.999 and specificity\n",
        "of 0.9999. Explain what these mean. If at that time 1 in 10,000 men were truly HIVpositive, find the positive predictive value. Based on this example, explain the potential\n",
        "disadvantage of routine diagnostic screening of a population for a rare disease.\n",
        "\n",
        "**TABLE 2.6** Joint probability distribution for disease status and diagnosis of breast cancer\n",
        "mammogram, based on conditional probabilities in Table 2.1\n",
        "\n",
        "| **Disease Status** | **Diagnosis from Mammogram** |              |           |\n",
        "|--------------------|------------------------------|--------------|-----------|\n",
        "|                    | Positive (+)                 | Negative (-) | **Total** |\n",
        "| Yes (D)            | 0.0086                       | 0.0014       | 0.01      |\n",
        "| No ($D^c$)         | 0.1188                       | 0.8712       | 0.99      |"
      ]
    },
    {
      "cell_type": "markdown",
      "metadata": {
        "id": "fNnyzeD6eo_t"
      },
      "source": [
        "`Your answer goes here`"
      ]
    },
    {
      "cell_type": "code",
      "execution_count": 49,
      "metadata": {
        "colab": {
          "base_uri": "https://localhost:8080/"
        },
        "id": "06xBI6sHeo_u",
        "outputId": "ab94461f-e4f4-4a1c-d67c-69d5789f7916"
      },
      "outputs": [
        {
          "output_type": "stream",
          "name": "stdout",
          "text": [
            "Joint Probability Table:\n",
            "| Disease Status | Diagnosis from Mammogram | Positive (+) | Negative (-) | Total |\n",
            "|--------------------|------------------------------|--------------|-----------|-------|\n",
            "| Yes (D)            | 0.0086                       | 0.0012       | 0.0098     |\n",
            "| No (D^c)         | 0.1188                       | 0.1045       | 0.2233     |\n",
            "P(D|+): 0.0675\n"
          ]
        }
      ],
      "source": [
        "# P(D) = 0.01 (Probability of having breast cancer)\n",
        "# P(D^c) = 0.99 (Probability of not having breast cancer)\n",
        "# P(+|D) = 0.86 (Sensitivity: Probability of a positive test given disease)\n",
        "# P(-|D) = 0.14 (Probability of a negative test given disease)\n",
        "# P(+|D^c) = 0.12 (False positive rate: Probability of a positive test given no disease)\n",
        "# P(-|D^c) = 0.88 (Probability of a negative test given no disease)\n",
        "\n",
        "# Calculate the joint probabilities\n",
        "P_plus_and_D = P_D = 0.01 * 0.86  # P(+ and D) = P(D) * P(+|D)\n",
        "P_minus_and_D = P_D * 0.14  # P(- and D) = P(D) * P(-|D)\n",
        "P_plus_and_not_D = P_not_D = 0.99 * 0.12  # P(+ and D^c) = P(D^c) * P(+|D^c)\n",
        "P_minus_and_not_D = P_not_D * 0.88  # P(- and D^c) = P(D^c) * P(-|D^c)\n",
        "\n",
        "print(\"Joint Probability Table:\")\n",
        "print(\"| Disease Status | Diagnosis from Mammogram | Positive (+) | Negative (-) | Total |\")\n",
        "print(\"|--------------------|------------------------------|--------------|-----------|-------|\")\n",
        "print(f\"| Yes (D)            | {round(P_plus_and_D, 4)}                       | {round(P_minus_and_D, 4)}       | {round(P_plus_and_D + P_minus_and_D, 4)}     |\")\n",
        "print(f\"| No (D^c)         | {round(P_plus_and_not_D, 4)}                       | {round(P_minus_and_not_D, 4)}       | {round(P_plus_and_not_D + P_minus_and_not_D, 4)}     |\")\n",
        "\n",
        "# Explanation:\n",
        "# P(+|D) is 0.86 which is the probability of a correct diagnosis for the 1% of women actually having breast cancer.\n",
        "# P(+|D^c) is 0.12 which is the probability of an incorrect diagnosis for the 99% of women not having breast cancer.\n",
        "# The false positive rate (0.12) is much higher than the true positive rate (0.86).\n",
        "# The number of false positives (0.99 * 0.12 = 0.1188) swamps the number of true positives (0.01 * 0.86 = 0.0086).\n",
        "# Therefore, when the test result is positive, it is more likely that the woman does not have breast cancer, even though the test is positive.\n",
        "\n",
        "# Calculate P(D|+)\n",
        "P_plus = P_plus_and_D + P_plus_and_not_D # P(+)\n",
        "P_D_given_plus = P_plus_and_D / P_plus\n",
        "\n",
        "print(f\"P(D|+): {round(P_D_given_plus, 4)}\")\n"
      ]
    },
    {
      "cell_type": "markdown",
      "metadata": {
        "id": "5Gbw5Ffieo_v"
      },
      "source": [
        "## Problem # 2.27."
      ]
    },
    {
      "cell_type": "markdown",
      "metadata": {
        "id": "x5EnZ2oReo_v"
      },
      "source": [
        "The distribution of *X* = heights *(cm)* of women in the U.K. is approximately *N*(162, $7^2$).\n",
        "Conditional on *X = x*, suppose *Y* = weight *(kg)* has a *N*(3.0 + 0.40x, $8^2$) distribution. Simulate\n",
        "and plot 1000 observations from this approximate bivariate normal distribution. Approximate\n",
        "the marginal means and standard deviations for *X* and *Y*. Approximate and interpret the\n",
        "correlation.\n"
      ]
    },
    {
      "cell_type": "markdown",
      "metadata": {
        "id": "NNIeRhbReo_v"
      },
      "source": [
        "`Your answer goes here`"
      ]
    },
    {
      "cell_type": "code",
      "execution_count": 51,
      "metadata": {
        "colab": {
          "base_uri": "https://localhost:8080/"
        },
        "id": "yzhOJkBdeo_v",
        "outputId": "e93d18b4-7d1d-42e2-91e9-17bf5defdbd5"
      },
      "outputs": [
        {
          "output_type": "stream",
          "name": "stdout",
          "text": [
            "Positive Predictive Value (PPV): 0.5\n"
          ]
        }
      ],
      "source": [
        "# Sensitivity: The probability of a positive test result given that the person truly has the disease.\n",
        "# In this case, it's 0.999, meaning that if a person has HIV, there's a 99.9% chance the test will correctly identify them as positive.\n",
        "\n",
        "# Specificity: The probability of a negative test result given that the person does not have the disease.\n",
        "# In this case, it's 0.9999, meaning that if a person does not have HIV, there's a 99.99% chance the test will correctly identify them as negative.\n",
        "\n",
        "# Prevalence: The proportion of the population that truly has the disease.\n",
        "# In this case, it's 1 in 10,000, or 0.0001.\n",
        "\n",
        "# Positive Predictive Value (PPV): The probability that a person truly has the disease given that their test result is positive.\n",
        "# We can calculate PPV using Bayes' theorem:\n",
        "# PPV = (Sensitivity * Prevalence) / [(Sensitivity * Prevalence) + ((1 - Specificity) * (1 - Prevalence))]\n",
        "\n",
        "sensitivity = 0.999\n",
        "specificity = 0.9999\n",
        "prevalence = 0.0001\n",
        "\n",
        "ppv = (sensitivity * prevalence) / ((sensitivity * prevalence) + ((1 - specificity) * (1 - prevalence)))\n",
        "\n",
        "print(\"Positive Predictive Value (PPV):\", round(ppv, 2))\n"
      ]
    }
  ],
  "metadata": {
    "kernelspec": {
      "display_name": "Python 3",
      "language": "python",
      "name": "python3"
    },
    "language_info": {
      "codemirror_mode": {
        "name": "ipython",
        "version": 3
      },
      "file_extension": ".py",
      "mimetype": "text/x-python",
      "name": "python",
      "nbconvert_exporter": "python",
      "pygments_lexer": "ipython3",
      "version": "3.8.3"
    },
    "colab": {
      "provenance": [],
      "include_colab_link": true
    }
  },
  "nbformat": 4,
  "nbformat_minor": 0
}